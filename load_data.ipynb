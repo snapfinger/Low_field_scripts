{
 "cells": [
  {
   "cell_type": "code",
   "execution_count": null,
   "metadata": {},
   "outputs": [],
   "source": [
    "# script to load dicom images and save as nifty files\n",
    "# by Yijun\n",
    "\n",
    "import pydicom as dicom\n",
    "import matplotlib.pyplot as plt"
   ]
  },
  {
   "cell_type": "code",
   "execution_count": null,
   "metadata": {},
   "outputs": [],
   "source": [
    "# load corresponding dicom files, this is to check metadata\n",
    "# T1w\n",
    "# ds = dicom.dcmread('/hd2/research/EEG-fMRI/data/Low_field_fMRI/VOL180_1.MR.0001.0064.2021.11.19.15.19.09.841301.50903234.IMA')\n",
    "\n",
    "# fMRI\n",
    "ds = dicom.dcmread('/hd2/research/EEG-fMRI/data/Low_field_fMRI/VOL180_1.MR.0012.0001.2021.11.19.15.19.09.841301.50923783.IMA')\n",
    "print(ds.pixel_array.shape)\n",
    "plt.figure(figsize=(15, 15));\n",
    "plt.imshow(ds.pixel_array, cmap=\"gray\");"
   ]
  },
  {
   "cell_type": "code",
   "execution_count": null,
   "metadata": {},
   "outputs": [],
   "source": [
    "# metadata\n",
    "ds"
   ]
  },
  {
   "cell_type": "code",
   "execution_count": null,
   "metadata": {
    "scrolled": true
   },
   "outputs": [],
   "source": [
    "import glob\n",
    "\n",
    "# T1w\n",
    "# files = glob.glob('/hd2/research/EEG-fMRI/data/Low_field_fMRI/VOL180_1.MR.0001.0[0-9]*.2021.11.19.15.19.09.841301.[0-9]*.IMA')\n",
    "\n",
    "# task fMRI\n",
    "files = glob.glob('/hd2/research/EEG-fMRI/data/Low_field_fMRI/VOL180_1.MR.0012.00[0-9]*.2021.11.19.15.19.09.841301.[0-9]*.IMA')\n",
    "files_sorted = sorted(files)\n",
    "files_sorted"
   ]
  },
  {
   "cell_type": "code",
   "execution_count": null,
   "metadata": {},
   "outputs": [],
   "source": [
    "print(len(files_sorted))"
   ]
  },
  {
   "cell_type": "code",
   "execution_count": null,
   "metadata": {},
   "outputs": [],
   "source": [
    "# stack the fMRI dicom files to a 4D array\n",
    "import numpy as np\n",
    "\n",
    "d1_ori, d2_ori = 320, 320\n",
    "d1, d2, d3, d4 = 64, 64, 25, 80\n",
    "    \n",
    "im_4d = np.zeros([d1, d2, d3, d4])\n",
    "\n",
    "files_sorted = sorted(files)\n",
    "\n",
    "for k in np.arange(80):\n",
    "    print(k)\n",
    "    print(files_sorted[k])\n",
    "    \n",
    "    ds = dicom.dcmread(files_sorted[k]);\n",
    "    im = ds.pixel_array;\n",
    "    im_3d = np.zeros([d1, d2, d3])\n",
    "    row_start, col_start = 0, 0\n",
    "\n",
    "    for i in np.arange(d3):\n",
    "        if col_start == d2_ori:\n",
    "            col_start = 0\n",
    "            row_start = row_start + 64\n",
    "\n",
    "        im_3d[:, :, i] = np.flipud(im[row_start: row_start + d1, col_start: col_start + d2]).T\n",
    "        col_start = col_start + d2\n",
    "        \n",
    "    im_4d[:, :, :, k] = im_3d\n",
    "    "
   ]
  },
  {
   "cell_type": "code",
   "execution_count": null,
   "metadata": {},
   "outputs": [],
   "source": [
    "# stack the anatomical MRI dicom files to a 3D array\n",
    "import numpy as np\n",
    "\n",
    "d1_ori, d2_ori = 160, 160\n",
    "d1, d2, d3 = 128, 160, 160\n",
    "    \n",
    "im_3d = np.zeros([d1, d2, d3])\n",
    "\n",
    "files_sorted = sorted(files)\n",
    "\n",
    "for k in np.arange(d1):\n",
    "    print(k)\n",
    "    print(files_sorted[k])\n",
    "    \n",
    "    ds = dicom.dcmread(files_sorted[k]);\n",
    "    im = ds.pixel_array;\n",
    "    \n",
    "    im_3d[k, :, :] = np.flipud(im).T\n",
    "        "
   ]
  },
  {
   "cell_type": "code",
   "execution_count": null,
   "metadata": {},
   "outputs": [],
   "source": [
    "# save as nifty file\n",
    "\n",
    "import nibabel as nib\n",
    "\n",
    "# task_fmri_path = '/hd2/research/EEG-fMRI/code/low_field_exp/output/task.nii'\n",
    "# nib.save(im_4d_nifti, '/hd2/research/EEG-fMRI/code/low_field_exp/output/task.nii')\n",
    "\n",
    "im_3d_nifti = nib.Nifti1Image(im_3d, affine=np.eye(4))\n",
    "nib.save(im_3d_nifti, '/hd2/research/EEG-fMRI/code/low_field_exp/output/T1.nii')"
   ]
  }
 ],
 "metadata": {
  "kernelspec": {
   "display_name": "Python 3",
   "language": "python",
   "name": "python3"
  },
  "language_info": {
   "codemirror_mode": {
    "name": "ipython",
    "version": 3
   },
   "file_extension": ".py",
   "mimetype": "text/x-python",
   "name": "python",
   "nbconvert_exporter": "python",
   "pygments_lexer": "ipython3",
   "version": "3.8.5"
  }
 },
 "nbformat": 4,
 "nbformat_minor": 5
}
